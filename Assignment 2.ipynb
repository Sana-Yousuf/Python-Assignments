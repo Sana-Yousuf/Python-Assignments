{
 "cells": [
  {
   "cell_type": "code",
   "execution_count": 1,
   "metadata": {},
   "outputs": [
    {
     "name": "stdout",
     "output_type": "stream",
     "text": [
      "Enter your percentage85\n",
      "A+ Grade \n"
     ]
    }
   ],
   "source": [
    "per = int (input(\"Enter your percentage\"))\n",
    "if per >= 80 and per <= 100 :\n",
    "    print(\"A+ Grade \");\n",
    "elif per >= 70 and per < 80 :\n",
    "    print(\"A Grade \");\n",
    "elif per >= 60 and per < 70 :\n",
    "    print(\"B Grade \");\n",
    "elif per >= 50 and per < 60 :\n",
    "    print(\"C Grade \");\n",
    "elif per >= 40 and per < 50 :\n",
    "    print(\"D Grade \");\n",
    "elif per >= 33 and per < 40 :\n",
    "    print(\"E Grade\");\n",
    "elif per >= 32 and per < 33 :\n",
    "    print(\"Fail\");\n",
    "else :\n",
    "    print(\"You have insert invalid PER %.\");\n"
   ]
  },
  {
   "cell_type": "code",
   "execution_count": null,
   "metadata": {},
   "outputs": [],
   "source": []
  },
  {
   "cell_type": "code",
   "execution_count": null,
   "metadata": {},
   "outputs": [],
   "source": []
  }
 ],
 "metadata": {
  "kernelspec": {
   "display_name": "Python 3",
   "language": "python",
   "name": "python3"
  },
  "language_info": {
   "codemirror_mode": {
    "name": "ipython",
    "version": 3
   },
   "file_extension": ".py",
   "mimetype": "text/x-python",
   "name": "python",
   "nbconvert_exporter": "python",
   "pygments_lexer": "ipython3",
   "version": "3.7.3"
  }
 },
 "nbformat": 4,
 "nbformat_minor": 2
}
