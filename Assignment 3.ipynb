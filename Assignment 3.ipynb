{
 "cells": [
  {
   "cell_type": "markdown",
   "metadata": {},
   "source": [
    "# Assignment 3 Batch 2 - Core Python\n",
    "\n",
    "Prepared by- Sana-Yousuf"
   ]
  },
  {
   "cell_type": "code",
   "execution_count": 3,
   "metadata": {},
   "outputs": [
    {
     "name": "stdout",
     "output_type": "stream",
     "text": [
      "Enter your first number  :34\n",
      "\tChoose a mathmatical  operation to perform e.g. for addition choose \"+\"   : *\n",
      "Enter the second number :51\n",
      "\n",
      "Hi, You choose 34.0 and 51.0 to multiply. The result is 1734.0\n"
     ]
    }
   ],
   "source": [
    "# A Simple Calculator\n",
    "# let us choose which mathmatical operations to perform\n",
    "# we are using a variable op which stores operators\n",
    "op = (\"*\" ,\"/\",  \"+\", \"-\") # I have used tuple, because I don't want to modify current operators\n",
    "c = \"operate\" # let us choose which mathmatical operations to perform\n",
    "              # c has a default value of 'operate' which is modified depending on the choice of operation.\n",
    "    \n",
    "# let's take our first input, we are keeping the type float \n",
    "\n",
    "x = float(input(\"Enter your first number  :\"))\n",
    "\n",
    "# Now what do you want to do with this number,add, subtract, multiply or divide \n",
    "\n",
    "choice = input('\\tChoose a mathmatical  operation to perform e.g. for addition choose \"+\"   : ')\n",
    "if choice in op:  # check if your operation is valid or not\n",
    "    y = float(input(\"Enter the second number :\"))        # after successfully selecting the operation, select another number\n",
    "    \n",
    "    if choice == \"*\":                         # if choice is multiplication\n",
    "            c = \"multiply\"\n",
    "            z = round(x*y,1)\n",
    "            \n",
    "    elif choice == \"/\":                       # if choice is division\n",
    "            c = \"divide\"\n",
    "            z = round(x/y,1)\n",
    "            \n",
    "    elif choice == \"+\":                       # if choice is addition\n",
    "            c = \"add\"\n",
    "            z= round(x+y,1)\n",
    "        \n",
    "    elif choice == \"-\":                       # if choice is subtraction\n",
    "            c = \"subtract\"\n",
    "            z= round(x-y,1)\n",
    "    else:\n",
    "             print(\"You typed Invalid operation\")\n",
    "else:\n",
    "    print(\"Invalid operator selected, Aborting!!!\")\n",
    "                    \n",
    "                           \n",
    "print(\"\\nHi, You choose {0} and {1} to {2}. The result is {3}\". format(x, y, c,  z),)"
   ]
  },
  {
   "cell_type": "code",
   "execution_count": 8,
   "metadata": {},
   "outputs": [
    {
     "name": "stdout",
     "output_type": "stream",
     "text": [
      "The numeric values in list A are : ['1', '00', '899']\n"
     ]
    }
   ],
   "source": [
    "#Checking Numeric Value in a list\n",
    "# let us define a simple list\n",
    "\n",
    "A = [\"1\", \"HD\", \"A\", \"B\", \"CAT\", \"RAT\", \"00\", \"899\"]\n",
    "\n",
    "# In Python, one method to identify a numeric value is 'isdigit()'\n",
    "# This is a string method and only returns a True value if all elements in a string value are numeric\n",
    "\n",
    "k = [i for i in A if i.isdigit()] # return i, for i in list A if it is numeric and store it in new list k.\n",
    "\n",
    "print('The numeric values in list A are :',k)"
   ]
  },
  {
   "cell_type": "code",
   "execution_count": 13,
   "metadata": {},
   "outputs": [
    {
     "name": "stdout",
     "output_type": "stream",
     "text": [
      "Method #1..Dictionary A has now been updated by simply adding a key and it's value   : {1: 20}\n",
      "Method #2..New Dictionary B has been updated using .update() : {'A': '20', 'B': '30', 'c': '15'}\n"
     ]
    }
   ],
   "source": [
    "# Adding key to a dictionary\n",
    "\n",
    "# Dictionaries have keys and values\n",
    "\n",
    "# There are several ways in which you can add to dictionary\n",
    "# let us explore\n",
    "\n",
    "#Method 1 \n",
    "\n",
    "dict_A = {} # dict_A is an empty dictionary\n",
    "dict_A[1] = 20 # we simply added a key, along with its value\n",
    "print('Method #1..Dictionary A has now been updated by simply adding a key and it\\'s value   :', dict_A)\n",
    "\n",
    "#Method 2\n",
    "\n",
    "dict_B = {'A':'20', 'B':'30'} # defining a new dictionary\n",
    "new_dict_B = dict_B.copy() # new_dict_B is a copy of dict_B \n",
    "\n",
    "\n",
    "# It is always nice to make a copy and then update the dictionary\n",
    "new_dict_B.update({'c':'15'})\n",
    "print('Method #2..New Dictionary B has been updated using .update() :',new_dict_B)\n",
    "\n",
    "# Note: There are more methods to add keys and values to dictionary"
   ]
  },
  {
   "cell_type": "code",
   "execution_count": 14,
   "metadata": {},
   "outputs": [
    {
     "name": "stdout",
     "output_type": "stream",
     "text": [
      "This student has got 424 out of 500\n"
     ]
    }
   ],
   "source": [
    "# Adding all numeric values in  dictionary\n",
    "#let us assume a dictionary containing subject names as keys\n",
    "#and marks gained as there value.\n",
    "\n",
    "Result = {'English':95, 'Math':82, 'Science':90,'Geography':80, 'Generalknowledge':77}\n",
    "\n",
    "total = 0\n",
    "total_marks = 500\n",
    "\n",
    "for subject in Result.values():\n",
    "    total += subject\n",
    "    \n",
    "print(f\"This student has got {total} out of {total_marks}\")"
   ]
  },
  {
   "cell_type": "code",
   "execution_count": 18,
   "metadata": {},
   "outputs": [
    {
     "name": "stdout",
     "output_type": "stream",
     "text": [
      "\n",
      "Just Found a Duplicate Entry {'Ali'} at index : 0\n",
      "\n",
      "Just Found a Duplicate Entry {'Ali'} at index : 1\n",
      "\n",
      "Just Found a Duplicate Entry {'Saad'} at index : 2\n",
      "\n",
      "Just Found a Duplicate Entry {'Sami'} at index : 3\n",
      "\n",
      "Searching.......\n",
      "\n",
      "Just Found a Duplicate Entry {'Sami'} at index : 5\n",
      "\n",
      "Just Found a Duplicate Entry {'Sami'} at index : 6\n",
      "\n",
      "Searching.......\n",
      "\n",
      "Searching.......\n",
      "\n",
      "Searching.......\n",
      "\n",
      "Just Found a Duplicate Entry {'Saad'} at index : 10\n",
      "\n",
      "Searching.......\n",
      "\n",
      "Searching.......\n",
      "\n",
      "Here is the list of duplicates found: ['Ali', 'Ali', 'Saad', 'Sami', 'Sami', 'Sami', 'Saad']\n",
      "\n",
      "Found 2 values of Saad in the list\n",
      "\n",
      "Found 3 values of Sami in the list\n",
      "\n",
      "Found 2 values of Ali in the list\n"
     ]
    }
   ],
   "source": [
    "# Checking Duplicate Values in a list\n",
    "\n",
    "#Assume a list containing names of some pupils\n",
    "#Few names are listed here\n",
    "\n",
    "Names = [\"Ali\",\"Ali\",\"Saad\", \"Sami\", \"Iftikhar\",\"Sami\",\"Sami\", \"Jaleel\",\"Khanzada\", \"samad\", \"Saad\", \"ali\",\"Zohaib\"]\n",
    "i = 0\n",
    "counter = 0\n",
    "duplicates = []\n",
    "\n",
    "for i,e in enumerate(Names):\n",
    "        if Names.count(e)> 1:\n",
    "            print('\\nJust Found a Duplicate Entry', {e}, 'at index :',Names.index(e, i))\n",
    "            duplicates.append(e)\n",
    "                \n",
    "        else:\n",
    "            print('\\nSearching.......')\n",
    "print('\\nHere is the list of duplicates found:', duplicates)\n",
    "x = 0\n",
    "for x in set(duplicates):\n",
    "    print(f'\\nFound {duplicates.count(x)} values of {x} in the list')"
   ]
  },
  {
   "cell_type": "code",
   "execution_count": 20,
   "metadata": {},
   "outputs": [
    {
     "name": "stdout",
     "output_type": "stream",
     "text": [
      "Enter Marks in Cryptography :85\n",
      "{'Autocade': 80, 'Calculas': 90, 'Presentation_Skills': 80, 'Physics': 85, 'Islamiat': 75, 'Cryptography': 85}\n"
     ]
    }
   ],
   "source": [
    "#Finding key in dictionary\n",
    "#let us take a previous example\n",
    "\n",
    "Result = {'Autocade':80, 'Calculas':90, 'Presentation_Skills':80,'Physics':85, 'Islamiat':75}\n",
    "Cryptography = 'Cryptography' \n",
    "# Now we want know if Cryptography Marks exist in this dictionary\n",
    "\n",
    "if Cryptography in Result.keys():\n",
    "    print(Result[Cryptography])\n",
    "else:\n",
    "    Result[Cryptography]=int(input('Enter Marks in Cryptography :'))\n",
    "    print(Result)"
   ]
  },
  {
   "cell_type": "code",
   "execution_count": null,
   "metadata": {},
   "outputs": [],
   "source": []
  }
 ],
 "metadata": {
  "kernelspec": {
   "display_name": "Python 3",
   "language": "python",
   "name": "python3"
  },
  "language_info": {
   "codemirror_mode": {
    "name": "ipython",
    "version": 3
   },
   "file_extension": ".py",
   "mimetype": "text/x-python",
   "name": "python",
   "nbconvert_exporter": "python",
   "pygments_lexer": "ipython3",
   "version": "3.7.3"
  }
 },
 "nbformat": 4,
 "nbformat_minor": 2
}
